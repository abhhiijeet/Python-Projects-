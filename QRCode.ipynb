{
 "cells": [
  {
   "cell_type": "code",
   "execution_count": 2,
   "id": "ce43e44b",
   "metadata": {},
   "outputs": [
    {
     "name": "stdout",
     "output_type": "stream",
     "text": [
      "Collecting pyqrcode\n",
      "  Downloading PyQRCode-1.2.1.zip (41 kB)\n",
      "     -------------------------------------- 41.9/41.9 kB 511.0 kB/s eta 0:00:00\n",
      "  Preparing metadata (setup.py): started\n",
      "  Preparing metadata (setup.py): finished with status 'done'\n",
      "Using legacy 'setup.py install' for pyqrcode, since package 'wheel' is not installed.\n",
      "Installing collected packages: pyqrcode\n",
      "  Running setup.py install for pyqrcode: started\n",
      "  Running setup.py install for pyqrcode: finished with status 'done'\n",
      "Successfully installed pyqrcode-1.2.1\n",
      "\n",
      "[notice] A new release of pip available: 22.1.2 -> 22.2\n",
      "[notice] To update, run: python.exe -m pip install --upgrade pip\n"
     ]
    }
   ],
   "source": [
    "!pip install pyqrcode\n",
    "import pyqrcode\n"
   ]
  },
  {
   "cell_type": "code",
   "execution_count": 6,
   "id": "616d516f",
   "metadata": {},
   "outputs": [
    {
     "name": "stdout",
     "output_type": "stream",
     "text": [
      "Collecting pypng\n",
      "  Downloading pypng-0.20220715.0-py3-none-any.whl (58 kB)\n",
      "     -------------------------------------- 58.1/58.1 kB 771.2 kB/s eta 0:00:00\n",
      "Installing collected packages: pypng\n",
      "Successfully installed pypng-0.20220715.0\n",
      "\n",
      "[notice] A new release of pip available: 22.1.2 -> 22.2\n",
      "[notice] To update, run: python.exe -m pip install --upgrade pip\n",
      "Note: you may need to restart the kernel to use updated packages.\n"
     ]
    }
   ],
   "source": [
    "pip install pypng"
   ]
  },
  {
   "cell_type": "code",
   "execution_count": 7,
   "id": "bdd1b433",
   "metadata": {},
   "outputs": [],
   "source": [
    "import png"
   ]
  },
  {
   "cell_type": "code",
   "execution_count": 8,
   "id": "4c6714bd",
   "metadata": {},
   "outputs": [],
   "source": [
    "from pyqrcode import QRCode"
   ]
  },
  {
   "cell_type": "code",
   "execution_count": 9,
   "id": "ed4d73b6",
   "metadata": {},
   "outputs": [],
   "source": [
    "s=\"https://www.linkedin.com/in/abhijeetbisht19\""
   ]
  },
  {
   "cell_type": "code",
   "execution_count": 10,
   "id": "d268f8af",
   "metadata": {},
   "outputs": [],
   "source": [
    "url = pyqrcode.create(s)"
   ]
  },
  {
   "cell_type": "code",
   "execution_count": 11,
   "id": "db211f1a",
   "metadata": {},
   "outputs": [],
   "source": [
    "url.svg(\"myqr.svg\",scale=8)"
   ]
  },
  {
   "cell_type": "code",
   "execution_count": 12,
   "id": "6195d132",
   "metadata": {},
   "outputs": [],
   "source": [
    "url.png(\"myqr.png\",scale=6)"
   ]
  },
  {
   "cell_type": "code",
   "execution_count": null,
   "id": "9ab0693f",
   "metadata": {},
   "outputs": [],
   "source": []
  }
 ],
 "metadata": {
  "kernelspec": {
   "display_name": "Python 3 (ipykernel)",
   "language": "python",
   "name": "python3"
  },
  "language_info": {
   "codemirror_mode": {
    "name": "ipython",
    "version": 3
   },
   "file_extension": ".py",
   "mimetype": "text/x-python",
   "name": "python",
   "nbconvert_exporter": "python",
   "pygments_lexer": "ipython3",
   "version": "3.10.4"
  }
 },
 "nbformat": 4,
 "nbformat_minor": 5
}
